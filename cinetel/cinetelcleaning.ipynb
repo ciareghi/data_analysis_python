{
 "cells": [
  {
   "cell_type": "markdown",
   "metadata": {},
   "source": [
    "# Cinetel Data Cleaning\n",
    "\n",
    "Cinetel data scraped daily from their online boxoffice at this [link](https://www.cinetel.it/pages/boxoffice.php?edperiodo=aWVyaQ==)."
   ]
  },
  {
   "cell_type": "markdown",
   "metadata": {},
   "source": [
    "## Reading In Files"
   ]
  },
  {
   "cell_type": "code",
   "execution_count": 20,
   "metadata": {},
   "outputs": [],
   "source": [
    "import pandas as pd"
   ]
  },
  {
   "cell_type": "code",
   "execution_count": 21,
   "metadata": {},
   "outputs": [],
   "source": [
    "df1 = pd.read_csv(r\"E:\\data_analysis_python\\cinetel\\cinetel_.csv\")"
   ]
  },
  {
   "cell_type": "markdown",
   "metadata": {},
   "source": [
    "---"
   ]
  },
  {
   "cell_type": "markdown",
   "metadata": {},
   "source": [
    "## Cleaning the dataframe\n",
    "\n",
    "To clean the dataframe I decided to drop duplicate values and columns that aren't relevant to my analysis, such as `df1['Incasso al 16/11/2023']` and `df1['Presenze al 16/11/2023]`. I then decided to rename the existing columns using the snake_case rule in order to make the analysis easier."
   ]
  },
  {
   "cell_type": "code",
   "execution_count": 22,
   "metadata": {},
   "outputs": [],
   "source": [
    "df1 = df1.drop_duplicates()"
   ]
  },
  {
   "cell_type": "code",
   "execution_count": 23,
   "metadata": {},
   "outputs": [],
   "source": [
    "df1 = df1.drop(columns= ['Incasso al 16/11/2023', 'Presenze al 16/11/2023'])"
   ]
  },
  {
   "cell_type": "code",
   "execution_count": 24,
   "metadata": {},
   "outputs": [],
   "source": [
    "df1 = df1.rename(columns = {'Pos.':'daily_rank', 'Titolo' : 'title', 'Prima Progr.' : 'first_screening_date', 'Nazione' : 'nation', 'Distribuzione' : 'distribution', 'Incasso' : 'daily_takings', 'Presenze' : 'daily_attendance',  '2023-11-17 15:31:50.351708' : 'date_pulled'})"
   ]
  },
  {
   "cell_type": "code",
   "execution_count": 25,
   "metadata": {},
   "outputs": [],
   "source": [
    "# dropping the extra 'header row' that is imported everyday when the .csv file gets updated\n",
    "df1 = df1[df1['daily_rank'].str.contains('Pos.')==False]"
   ]
  },
  {
   "cell_type": "code",
   "execution_count": 26,
   "metadata": {},
   "outputs": [],
   "source": [
    "# making the 'title' and 'distribution' entries consistent by appling the title format\n",
    "df1['title'] = df1['title'].apply(lambda x: x.title())\n",
    "df1['distribution'] = df1['distribution'].apply(lambda x: x.title())"
   ]
  },
  {
   "cell_type": "code",
   "execution_count": 27,
   "metadata": {},
   "outputs": [],
   "source": [
    "# cleaning the 'first_screening_date' entries\n",
    "df1['first_screening_date'] = df1['first_screening_date'].str[12:]"
   ]
  },
  {
   "cell_type": "code",
   "execution_count": 28,
   "metadata": {},
   "outputs": [],
   "source": [
    "# cleaning the column showing the date the data was pulled from the site\n",
    "df1['date_pulled'] = pd.to_datetime(df1['date_pulled'])\n",
    "df1['date_pulled'] = pd.to_datetime(df1['date_pulled']).dt.date\n",
    "\n",
    "#extra tries I didi before:\n",
    "#df1['date_pulled'] = df1['date_pulled'].str[:10]\n",
    "#df1['date_pulled'] = df1['date_pulled'].str.replace('[^a-zA-Z0-9]', '', regex = True)\n",
    "#df1['date_pulled'] = df1['date_pulled'].apply(lambda x: str(x))\n",
    "#df1['date_pulled'] = df1['date_pulled'].apply(lambda x: x[0:2] + '/' + x[2:4] + '/' + x[4:8])"
   ]
  },
  {
   "cell_type": "code",
   "execution_count": 29,
   "metadata": {},
   "outputs": [],
   "source": [
    "from datetime import timedelta, datetime"
   ]
  },
  {
   "cell_type": "code",
   "execution_count": 30,
   "metadata": {},
   "outputs": [],
   "source": [
    "# formatting\n",
    "df1['first_screening_date'] = pd.to_datetime(df1['first_screening_date'], format='%d/%m/%Y')\n",
    "df1['first_screening_date'] = pd.to_datetime(df1['first_screening_date']).dt.date"
   ]
  },
  {
   "cell_type": "code",
   "execution_count": 31,
   "metadata": {},
   "outputs": [],
   "source": [
    "# calculating the number of days of screenings for each movie \n",
    "df1['screening_days'] = datetime.today().date() - df1['first_screening_date']\n",
    "df1['screening_days'] = df1['screening_days'].map(lambda x: str(x)[:-9])"
   ]
  },
  {
   "cell_type": "code",
   "execution_count": 32,
   "metadata": {},
   "outputs": [],
   "source": [
    "# creating a column to show the date the 'daily_takings' and 'daily_attendace' refer to\n",
    "df1['date'] = df1['date_pulled'] - timedelta(days=1)\n",
    "df1['date'] = pd.to_datetime(df1['date'])"
   ]
  },
  {
   "cell_type": "code",
   "execution_count": 33,
   "metadata": {},
   "outputs": [],
   "source": [
    "# creating a column showing the day of the week. it'll be useful for further analysis\n",
    "df1['day_of_week'] = df1['date'].dt.day_name()"
   ]
  },
  {
   "cell_type": "code",
   "execution_count": 34,
   "metadata": {},
   "outputs": [
    {
     "data": {
      "text/html": [
       "<div>\n",
       "<style scoped>\n",
       "    .dataframe tbody tr th:only-of-type {\n",
       "        vertical-align: middle;\n",
       "    }\n",
       "\n",
       "    .dataframe tbody tr th {\n",
       "        vertical-align: top;\n",
       "    }\n",
       "\n",
       "    .dataframe thead th {\n",
       "        text-align: right;\n",
       "    }\n",
       "</style>\n",
       "<table border=\"1\" class=\"dataframe\">\n",
       "  <thead>\n",
       "    <tr style=\"text-align: right;\">\n",
       "      <th></th>\n",
       "      <th>daily_rank</th>\n",
       "      <th>title</th>\n",
       "      <th>first_screening_date</th>\n",
       "      <th>nation</th>\n",
       "      <th>distribution</th>\n",
       "      <th>daily_takings</th>\n",
       "      <th>daily_attendance</th>\n",
       "      <th>date_pulled</th>\n",
       "      <th>screening_days</th>\n",
       "      <th>date</th>\n",
       "      <th>day_of_week</th>\n",
       "    </tr>\n",
       "  </thead>\n",
       "  <tbody>\n",
       "    <tr>\n",
       "      <th>0</th>\n",
       "      <td>1</td>\n",
       "      <td>C'E' Ancora Domani</td>\n",
       "      <td>2023-10-26</td>\n",
       "      <td>ITA</td>\n",
       "      <td>Vision Distribution</td>\n",
       "      <td>449991.06</td>\n",
       "      <td>66700</td>\n",
       "      <td>2023-11-17</td>\n",
       "      <td>26 days</td>\n",
       "      <td>2023-11-16</td>\n",
       "      <td>Thursday</td>\n",
       "    </tr>\n",
       "    <tr>\n",
       "      <th>1</th>\n",
       "      <td>2</td>\n",
       "      <td>Hunger Games - La Ballata Dell'Usignolo E Del ...</td>\n",
       "      <td>2023-11-15</td>\n",
       "      <td>USA</td>\n",
       "      <td>Medusa Film S.P.A.</td>\n",
       "      <td>238466.31</td>\n",
       "      <td>32469</td>\n",
       "      <td>2023-11-17</td>\n",
       "      <td>6 days</td>\n",
       "      <td>2023-11-16</td>\n",
       "      <td>Thursday</td>\n",
       "    </tr>\n",
       "    <tr>\n",
       "      <th>2</th>\n",
       "      <td>3</td>\n",
       "      <td>The Marvels</td>\n",
       "      <td>2023-11-08</td>\n",
       "      <td>USA</td>\n",
       "      <td>Walt Disney S.M.P. Italia</td>\n",
       "      <td>60914.35</td>\n",
       "      <td>8628</td>\n",
       "      <td>2023-11-17</td>\n",
       "      <td>13 days</td>\n",
       "      <td>2023-11-16</td>\n",
       "      <td>Thursday</td>\n",
       "    </tr>\n",
       "    <tr>\n",
       "      <th>3</th>\n",
       "      <td>4</td>\n",
       "      <td>Thanksgiving</td>\n",
       "      <td>2023-11-16</td>\n",
       "      <td>USA</td>\n",
       "      <td>Eagle Pictures S.P.A.</td>\n",
       "      <td>41232.57</td>\n",
       "      <td>5709</td>\n",
       "      <td>2023-11-17</td>\n",
       "      <td>5 days</td>\n",
       "      <td>2023-11-16</td>\n",
       "      <td>Thursday</td>\n",
       "    </tr>\n",
       "    <tr>\n",
       "      <th>...</th>\n",
       "      <td>...</td>\n",
       "      <td>...</td>\n",
       "      <td>...</td>\n",
       "      <td>...</td>\n",
       "      <td>...</td>\n",
       "      <td>...</td>\n",
       "      <td>...</td>\n",
       "      <td>...</td>\n",
       "      <td>...</td>\n",
       "      <td>...</td>\n",
       "      <td>...</td>\n",
       "    </tr>\n",
       "    <tr>\n",
       "      <th>50</th>\n",
       "      <td>7</td>\n",
       "      <td>Comandante</td>\n",
       "      <td>2023-10-31</td>\n",
       "      <td>ITA</td>\n",
       "      <td>01 Distribution</td>\n",
       "      <td>19637.37</td>\n",
       "      <td>3455</td>\n",
       "      <td>2023-11-21</td>\n",
       "      <td>21 days</td>\n",
       "      <td>2023-11-20</td>\n",
       "      <td>Monday</td>\n",
       "    </tr>\n",
       "    <tr>\n",
       "      <th>51</th>\n",
       "      <td>8</td>\n",
       "      <td>Io Capitano</td>\n",
       "      <td>2023-09-07</td>\n",
       "      <td>COP</td>\n",
       "      <td>01 Distribution</td>\n",
       "      <td>14251.70</td>\n",
       "      <td>3374</td>\n",
       "      <td>2023-11-21</td>\n",
       "      <td>75 days</td>\n",
       "      <td>2023-11-20</td>\n",
       "      <td>Monday</td>\n",
       "    </tr>\n",
       "    <tr>\n",
       "      <th>52</th>\n",
       "      <td>9</td>\n",
       "      <td>Trolls 3 - Tutti Insieme (Trolls Band Together)</td>\n",
       "      <td>2023-11-09</td>\n",
       "      <td>USA</td>\n",
       "      <td>Universal S.R.L.</td>\n",
       "      <td>13974.40</td>\n",
       "      <td>2376</td>\n",
       "      <td>2023-11-21</td>\n",
       "      <td>12 days</td>\n",
       "      <td>2023-11-20</td>\n",
       "      <td>Monday</td>\n",
       "    </tr>\n",
       "    <tr>\n",
       "      <th>53</th>\n",
       "      <td>10</td>\n",
       "      <td>Dream Scenario - Hai Mai Sognato Quest'Uomo?</td>\n",
       "      <td>2023-11-16</td>\n",
       "      <td>USA</td>\n",
       "      <td>I Wonder Pictures S.R.L.</td>\n",
       "      <td>12969.19</td>\n",
       "      <td>2175</td>\n",
       "      <td>2023-11-21</td>\n",
       "      <td>5 days</td>\n",
       "      <td>2023-11-20</td>\n",
       "      <td>Monday</td>\n",
       "    </tr>\n",
       "  </tbody>\n",
       "</table>\n",
       "<p>50 rows × 11 columns</p>\n",
       "</div>"
      ],
      "text/plain": [
       "   daily_rank                                              title  \\\n",
       "0           1                                 C'E' Ancora Domani   \n",
       "1           2  Hunger Games - La Ballata Dell'Usignolo E Del ...   \n",
       "2           3                                        The Marvels   \n",
       "3           4                                       Thanksgiving   \n",
       "..        ...                                                ...   \n",
       "50          7                                         Comandante   \n",
       "51          8                                        Io Capitano   \n",
       "52          9    Trolls 3 - Tutti Insieme (Trolls Band Together)   \n",
       "53         10       Dream Scenario - Hai Mai Sognato Quest'Uomo?   \n",
       "\n",
       "   first_screening_date nation               distribution daily_takings  \\\n",
       "0            2023-10-26    ITA        Vision Distribution     449991.06   \n",
       "1            2023-11-15    USA         Medusa Film S.P.A.     238466.31   \n",
       "2            2023-11-08    USA  Walt Disney S.M.P. Italia      60914.35   \n",
       "3            2023-11-16    USA      Eagle Pictures S.P.A.      41232.57   \n",
       "..                  ...    ...                        ...           ...   \n",
       "50           2023-10-31    ITA            01 Distribution      19637.37   \n",
       "51           2023-09-07    COP            01 Distribution      14251.70   \n",
       "52           2023-11-09    USA           Universal S.R.L.      13974.40   \n",
       "53           2023-11-16    USA   I Wonder Pictures S.R.L.      12969.19   \n",
       "\n",
       "   daily_attendance date_pulled screening_days       date day_of_week  \n",
       "0             66700  2023-11-17        26 days 2023-11-16    Thursday  \n",
       "1             32469  2023-11-17         6 days 2023-11-16    Thursday  \n",
       "2              8628  2023-11-17        13 days 2023-11-16    Thursday  \n",
       "3              5709  2023-11-17         5 days 2023-11-16    Thursday  \n",
       "..              ...         ...            ...        ...         ...  \n",
       "50             3455  2023-11-21        21 days 2023-11-20      Monday  \n",
       "51             3374  2023-11-21        75 days 2023-11-20      Monday  \n",
       "52             2376  2023-11-21        12 days 2023-11-20      Monday  \n",
       "53             2175  2023-11-21         5 days 2023-11-20      Monday  \n",
       "\n",
       "[50 rows x 11 columns]"
      ]
     },
     "execution_count": 34,
     "metadata": {},
     "output_type": "execute_result"
    }
   ],
   "source": [
    "pd.set_option('display.max_rows', 8)\n",
    "df1"
   ]
  },
  {
   "cell_type": "markdown",
   "metadata": {},
   "source": [
    "---"
   ]
  },
  {
   "cell_type": "markdown",
   "metadata": {},
   "source": [
    "## Visualizations"
   ]
  },
  {
   "cell_type": "code",
   "execution_count": 35,
   "metadata": {},
   "outputs": [],
   "source": [
    "# import numpy as np\n",
    "# import matplotlib.pyplot as plt"
   ]
  }
 ],
 "metadata": {
  "kernelspec": {
   "display_name": "venv",
   "language": "python",
   "name": "python3"
  },
  "language_info": {
   "codemirror_mode": {
    "name": "ipython",
    "version": 3
   },
   "file_extension": ".py",
   "mimetype": "text/x-python",
   "name": "python",
   "nbconvert_exporter": "python",
   "pygments_lexer": "ipython3",
   "version": "3.11.4"
  }
 },
 "nbformat": 4,
 "nbformat_minor": 2
}
