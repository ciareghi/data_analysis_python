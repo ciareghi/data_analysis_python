{
 "cells": [
  {
   "cell_type": "code",
   "execution_count": 1,
   "metadata": {},
   "outputs": [],
   "source": [
    "import requests\n",
    "from bs4 import BeautifulSoup\n",
    "import csv\n",
    "import datetime\n",
    "from datetime import date, timedelta\n",
    "import os\n",
    "import pandas as pd"
   ]
  },
  {
   "cell_type": "code",
   "execution_count": 2,
   "metadata": {},
   "outputs": [],
   "source": [
    "def download_and_append_data(url, file_path): \n",
    "    # Effettua la richiesta HTTP per ottenere il contenuto della pagina\n",
    "    response = requests.get(url)\n",
    "    \n",
    "    # Verifica se la richiesta è stata eseguita con successo (status code 200)\n",
    "    if response.status_code == 200:\n",
    "        # Utilizza BeautifulSoup per analizzare l'HTML della pagina\n",
    "        soup = BeautifulSoup(response.text, 'html.parser')\n",
    "        \n",
    "        # Trova la tabella desiderata nel documento HTML\n",
    "        table = soup.find_all('table')[1]\n",
    "        \n",
    "        # Estrai i dati dalla tabella\n",
    "        data = []\n",
    "        for row in table.find_all('tr'):\n",
    "            columns = row.find_all(['td', 'th'])[:9]\n",
    "            data.append([column.get_text(strip=True) for column in columns] + [pd.to_datetime('now')])\n",
    "\n",
    "        # Se il file esiste, apri il file CSV e aggiungi i nuovi dati\n",
    "        if os.path.exists(file_path):\n",
    "            try:\n",
    "                existing_data = pd.read_csv(file_path)\n",
    "            except pd.errors.EmptyDataError:\n",
    "                # Se il file è vuoto, crea un DataFrame vuoto\n",
    "                existing_data = pd.DataFrame()\n",
    "\n",
    "            new_data = pd.DataFrame(data, columns=existing_data.columns)\n",
    "            updated_data = pd.concat([existing_data, new_data], ignore_index=False)\n",
    "            updated_data.to_csv(file_path, index=False)\n",
    "        else:\n",
    "            # Se il file non esiste, crea un nuovo file CSV\n",
    "            with open(file_path, 'w', newline='', encoding='utf-8') as csv_file:\n",
    "                writer = csv.writer(csv_file)\n",
    "                writer.writerows(data)\n",
    "\n",
    "        print(f'I dati sono stati scaricati con successo e aggiunti a {file_path}')\n",
    "    else:\n",
    "        print(f'Errore nella richiesta HTTP. Codice di stato: {response.status_code}')\n",
    "\n",
    "# URL della pagina con la tabella\n",
    "page_url = 'https://www.cinetel.it/pages/boxoffice.php?edperiodo=aWVyaQ=='\n",
    "\n",
    "\n",
    "# Nome del file CSV\n",
    "file_name = 'cinetel_.csv'\n",
    "file_path = os.path.join(os.getcwd(), file_name)"
   ]
  },
  {
   "cell_type": "code",
   "execution_count": 3,
   "metadata": {},
   "outputs": [
    {
     "name": "stdout",
     "output_type": "stream",
     "text": [
      "I dati sono stati scaricati con successo e aggiunti a e:\\data_analysis_python\\cinetel\\cinetel_.csv\n"
     ]
    }
   ],
   "source": [
    "download_and_append_data(page_url, file_path)"
   ]
  }
 ],
 "metadata": {
  "kernelspec": {
   "display_name": "venv",
   "language": "python",
   "name": "python3"
  },
  "language_info": {
   "codemirror_mode": {
    "name": "ipython",
    "version": 3
   },
   "file_extension": ".py",
   "mimetype": "text/x-python",
   "name": "python",
   "nbconvert_exporter": "python",
   "pygments_lexer": "ipython3",
   "version": "3.11.4"
  }
 },
 "nbformat": 4,
 "nbformat_minor": 2
}
